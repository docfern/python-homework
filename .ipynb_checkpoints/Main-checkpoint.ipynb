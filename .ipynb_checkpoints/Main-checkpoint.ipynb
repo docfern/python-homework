{
 "cells": [
  {
   "cell_type": "code",
   "execution_count": 16,
   "metadata": {},
   "outputs": [
    {
     "name": "stdout",
     "output_type": "stream",
     "text": [
      "Financial Analysis\n",
      "------------------------------------------------------- \n",
      "\n",
      "Total Months: 86 \n",
      "\n",
      "Total: $ 38382578 \n",
      "\n",
      "Average Change: $ -2315.12 \n",
      "\n",
      "Greatest Increase in Profits: Feb-2012 ($1926159) \n",
      "\n",
      "Greatest Decrease in Profits: Sep-2013 ($-2196167) \n",
      "\n"
     ]
    }
   ],
   "source": [
    "# import libraries\n",
    "import os\n",
    "import csv\n",
    "\n",
    "# open path and read csv\n",
    "PyBankcsv = os.path.join(\"Resources\", \"budget_data.csv\")\n",
    "with open(PyBankcsv, \"r\") as csvfile:\n",
    "    csvreader = csv.reader(csvfile, delimiter=\",\")\n",
    "    csv_header = next(csvfile)\n",
    "\n",
    "# Initialize\n",
    "    profitloss = []\n",
    "    line_num = []\n",
    "    profitloss_change = []\n",
    "\n",
    "# Append information\n",
    "    for rows in csvreader:\n",
    "        profitloss.append(int(rows[1]))\n",
    "        line_num.append(rows[0])\n",
    "\n",
    "# Calculate the change in profit    \n",
    "for x in range(1, len(profitloss)):\n",
    "        profitloss_change.append((int(profitloss[x]) - int(profitloss[x-1])))\n",
    "\n",
    "# Calculate profitloss average with a rounding off feature and calculate the total months \n",
    "        profitloss_average = round((sum(profitloss_change) / len(profitloss_change)), 2)\n",
    "        total_months = len(line_num)\n",
    "\n",
    "# Determine the max and min changes in profitloss\n",
    "        greatest_increase = max(profitloss_change)\n",
    "        greatest_decrease = min(profitloss_change)\n",
    "\n",
    "# Show results\n",
    "print(\"Financial Analysis\")\n",
    "print(f\"------------------------------------------------------- \\n\")\n",
    "print(f\"Total Months: {total_months} \\n\")\n",
    "print(f\"Total: $ {sum(profitloss)} \\n\")\n",
    "print(f\"Average Change: $ {profitloss_average} \\n\")\n",
    "print(f\"Greatest Increase in Profits: {months[revenue_change.index(max(revenue_change))+1]} (${greatest_increase}) \\n\")\n",
    "print(f\"Greatest Decrease in Profits: {months[revenue_change.index(min(revenue_change))+1]} (${greatest_decrease}) \\n\")"
   ]
  },
  {
   "cell_type": "code",
   "execution_count": null,
   "metadata": {},
   "outputs": [],
   "source": []
  }
 ],
 "metadata": {
  "kernelspec": {
   "display_name": "Python 3",
   "language": "python",
   "name": "python3"
  },
  "language_info": {
   "codemirror_mode": {
    "name": "ipython",
    "version": 3
   },
   "file_extension": ".py",
   "mimetype": "text/x-python",
   "name": "python",
   "nbconvert_exporter": "python",
   "pygments_lexer": "ipython3",
   "version": "3.8.3"
  }
 },
 "nbformat": 4,
 "nbformat_minor": 4
}
